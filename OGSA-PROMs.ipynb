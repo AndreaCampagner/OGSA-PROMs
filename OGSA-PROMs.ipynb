{
 "cells": [
  {
   "cell_type": "code",
   "execution_count": 2,
   "id": "dad3f257-8dc2-4bd4-9674-daaf59d2e2a6",
   "metadata": {},
   "outputs": [],
   "source": [
    "import pandas as pd\n",
    "import seaborn as sns\n",
    "import numpy as np"
   ]
  },
  {
   "cell_type": "markdown",
   "id": "9d2e8f10-1d31-4b19-9e1c-7d0d5e00514a",
   "metadata": {},
   "source": [
    "Read Raw datasets: sheet 0 stores the surgical and demographical data, as well as PROMs scores; sheet 1 contains PROMs question items"
   ]
  },
  {
   "cell_type": "code",
   "execution_count": null,
   "id": "ef9c0e01-c13f-45be-93e5-4aef79ee41fd",
   "metadata": {},
   "outputs": [],
   "source": [
    "anca =  pd.read_excel(\"estrazione_datareg_20230803.xlsx\", sheet_name=0)\n",
    "anca_risposte = pd.read_excel(\"estrazione_datareg_20230803.xlsx\", sheet_name=1)\n",
    "anca_risposte = anca_risposte[anca_risposte['cartella_clinica'].notna()]\n",
    "ginocchio = pd.read_excel(\"estrazione_datareg_20230803.xlsx\", sheet_name=2)\n",
    "ginocchio_risposte = pd.read_excel(\"estrazione_datareg_20230803.xlsx\", sheet_name=3)\n",
    "ginocchio_risposte = ginocchio_risposte[ginocchio_risposte['cartella_clinica'].notna()]\n",
    "spine = pd.read_excel(\"spinereg.xlsx\", sheet_name=0, dtype=dict_types)\n",
    "spine_risposte = pd.read_excel(\"spinereg.xlsx\", sheet_name=1, dtype=dict_types)"
   ]
  },
  {
   "cell_type": "markdown",
   "id": "5b1b4c5d-6071-4561-ae97-ec2ecf6a3902",
   "metadata": {},
   "source": [
    "Drop identifying keys"
   ]
  },
  {
   "cell_type": "code",
   "execution_count": null,
   "id": "d5d01b11-2b3f-416d-9634-fe84b93a6146",
   "metadata": {},
   "outputs": [],
   "source": [
    "ginocchio_riposte = ginocchio_risposte.drop(columns=[\"cartella_clinica\", \"MSP\", \"id_episodio_esterno\"])\n",
    "anca_risposte = anca_risposte.drop(columns=[\"cartella_clinica\", \"MSP\", \"id_episodio_esterno\"])\n",
    "spine_risposte = spine_risposte.drop(columns=[\"cartella_clinica\", \"MSP\", \"id_episodio_esterno\"])"
   ]
  },
  {
   "cell_type": "markdown",
   "id": "f7eaec50-93e2-418b-9f63-17fb40a6941d",
   "metadata": {},
   "source": [
    "(Left-)join datasets based on id (surgical event id). Drop uid (patient id) from second table. Subsequently, remove patients who withdrew from register."
   ]
  },
  {
   "cell_type": "code",
   "execution_count": null,
   "id": "a72a6ce9-64d1-47b9-bba8-abd61c1b62fa",
   "metadata": {},
   "outputs": [],
   "source": [
    "hip_join = hip.set_index(\"id\").join(hip_risposte.set_index(\"id\").drop(columns=\"uid\"))\n",
    "hip_join = hip_join[(hip_join[\"state\"] != \"paziente uscito dal registro\") & (hip_join[\"state\"] != \"paziente che ha rinunciato\")]\n",
    "\n",
    "knee_join = knee.set_index(\"id\").join(knee_risposte.set_index(\"id\").drop(columns=\"uid\"))\n",
    "knee_join = knee_join[(knee_join[\"state\"] != \"paziente uscito dal registro\") & (knee_join[\"state\"] != \"paziente che ha rinunciato\")]\n",
    "\n",
    "spine_join = spine.set_index(\"id\").join(spine_risposte.set_index(\"id\").drop(columns=\"uid\"))\n",
    "spine_join = spine_join[(spine_join[\"state\"] != \"paziente uscito dal registro\") & (spine_join[\"state\"] != \"paziente che ha rinunciato\")]"
   ]
  },
  {
   "cell_type": "markdown",
   "id": "7e8c2088-e46f-462a-bcb8-f1a2f4559536",
   "metadata": {},
   "source": [
    "Hash operator names using SHAKE-128"
   ]
  },
  {
   "cell_type": "code",
   "execution_count": null,
   "id": "21e6a039-1671-4573-86f1-5d495ae9ce37",
   "metadata": {},
   "outputs": [],
   "source": [
    "import hashlib\n",
    "\n",
    "def hash_fun(x):\n",
    "    try:\n",
    "        hashGen = hashlib.shake_128()\n",
    "        hashGen.update(x.encode('utf-8'))\n",
    "        return hashGen.hexdigest(10)\n",
    "    except:\n",
    "        return x\n",
    "\n",
    "spine_join[\"first_operator_1\"] = spine_join[\"first_operator_1\"].apply(lambda x: hash_fun(x))\n",
    "spine_join[\"first_operator_2\"] = spine_join[\"first_operator_2\"].apply(lambda x: hash_fun(x))\n",
    "spine_join[\"first_operator_3\"] = spine_join[\"first_operator_3\"].apply(lambda x: hash_fun(x))"
   ]
  },
  {
   "cell_type": "markdown",
   "id": "6922ed57-d1a1-4e54-baf1-e2435bc72191",
   "metadata": {},
   "source": [
    "Translate column names for questionnaire items in SpineReg Spine registry. The remaining columns have been translated by directly operating on the .csv files."
   ]
  },
  {
   "cell_type": "code",
   "execution_count": null,
   "id": "273c64f1-d991-4e0a-8f7d-71253e0ab474",
   "metadata": {},
   "outputs": [],
   "source": [
    "translate = {\n",
    "    #BMI\n",
    "    'peso' : \"weight\",\n",
    "    'altezza' : \"height\",\n",
    "\n",
    "    #ODI\n",
    "    'ODI_dolore' : \"ODI_pain_intensity\",\n",
    "    'curapersonale' : \"personal_care\",\n",
    "    'alzarepesi' : \"lifting\",\n",
    "    'camminare' : \"walking\",\n",
    "    'stareseduto': \"sitting\",\n",
    "    'stareinpiedi': \"standing\",\n",
    "    'dormire' : \"sleeping\",\n",
    "    'vitasessuale' : \"sex_life\",\n",
    "    'vitasociale' : \"social_life\",\n",
    "    'viaggiare' : \"travelling\",\n",
    "\n",
    "    #COMI\n",
    "    'assiale' : \"axial\",\n",
    "    'radicolare': \"radicular\",\n",
    " \n",
    "    #SF36\n",
    "    'salutegenerale' : \"health_self_evaluation\",\n",
    "    'saluteannofa' : \"health_compared_year_ago\",\n",
    "    'attimpegnative' : \"vigorous_activity\",\n",
    "    'attmoderate': \"moderate_activity\",\n",
    "    'portareborsespesa' : \"carrying_groceries\",\n",
    "    'salirequalchepiano' : \"climbing_several_stairs\",\n",
    "    'salireunpiano' : \"climbing_stairs\",\n",
    "    'piegarsichinarsi': \"bending_kneeling\",\n",
    "    'cammkm' : \"walk_more_than_mile\",\n",
    "    'cammcentinaiam' : \"walk_several_blocks\",\n",
    "    'cammcentom' : \"walk_block\",\n",
    "    'farebagno' : \"bathing_dressing\",\n",
    "    'ridottotempolav': \"cut_time_work\",\n",
    "    'resomeno': \"accomplished_less_physical\",\n",
    "    'limittipilav': \"limited_in_activities\",\n",
    "    'difficoltalav' : \"difficulties_work\",\n",
    "    'ridottotempolavem' : \"cut_time_work_emotional\",\n",
    "    'resomenoem': \"accomplished_less_emotional\",\n",
    "    'caloconcem' : \"less_careful\",\n",
    "    'interveritoatt' : \"social_activities_interference_extent\",\n",
    "    'dolorefisico': \"bodily_pain\",\n",
    "    'doloreostacolato': \"pain_interference\",\n",
    "    'vivacebrillante': \"full_of_pep\",\n",
    "    'moltoagitato' : \"nervous\",  \n",
    "    'giumorale': \"felt_down\",\n",
    "    'calmosereno': \"calm_peaceful\",\n",
    "    'pienoenergia': \"energy\",\n",
    "    'scoraggtriste': \"downhearted_blue\",\n",
    "    'felice': \"happy\",\n",
    "    'sfinito': \"worn_out\",\n",
    "    'felice': \"happy\",\n",
    "    'stanco': \"tired\",\n",
    "    'saluteinterferito':  \"social_activities_interference_time\",\n",
    "    'saluteammalato': \"sick_more_easily\",\n",
    "    'salutecomealtri': \"healthy_as_others\",\n",
    "    'salutepeggiora': \"health_worsening\",\n",
    "    'saluteottima': \"health_excellent\",\n",
    "    \n",
    "    \n",
    "    #SRS22\n",
    "    \"terminedolseimesi\" : \"pain_last_six_months\",\n",
    "    \"terminedolultimomese\": \"pain_last_month\",\n",
    "    \"seimesinervoso\": \"nervous_last_six_months\",\n",
    "    \"aspettorestovita\": \"life_current_back_shape\",\n",
    "    \"attquotnormalm\": \"current_activity_level\",\n",
    "    \"aspettovestito\": \"look_in_clothes\",\n",
    "    \"seimesidepresso\": \"depressed_last_six_months\",\n",
    "    \"maldischienarisposo\": \"pain_at_rest\",\n",
    "    \"livelloatt\": \"level_activity\",\n",
    "    \"terminiaspettotronco\": \"appearance_trunk\",\n",
    "    \"farmacischiena\": \"pain_medication\",\n",
    "    \"schienalimatt\": \"limit_house_activities\",\n",
    "    \"seimesicalmo\": \"calm_peaceful\",\n",
    "    \"schienarelpers\": \"affect_personal_relationship\",\n",
    "    \"difficoltaeconomiche\": \"financial_difficulties\",\n",
    "    \"seimesidisperato\": \"downhearted_blue\",\n",
    "    \"tremesiassenze\": \"days_off\",\n",
    "    \"uscire\": \"limit_going_out\",\n",
    "    \"schienaattraente\": \"feel_attractive\",\n",
    "    \"seimesifelice\": \"happy\",\n",
    "    \"soddisftrattam\": \"satisfaction\",\n",
    "    \"ancoratrattam\": \"repeat_same_management\",\n",
    "    \n",
    "    #FABQ\n",
    "    \"attfisprovoca\": \"physical_activity_causes_pain\",\n",
    "    \"attfisaggrava\": \"physical_activity_worsens_pain\",\n",
    "    \"attfisdannschiena\": \"physical_activity_may_harm\",\n",
    "    \"nondovreiattfis\": \"physical_activity_should_not_perform\",\n",
    "    \"nonriescoattfis\": \"physical_activity_cannot_perform\",\n",
    "    \"lavprovoca\": \"work_causes_pain\",\n",
    "    \"lavaggravato\": \"work_worsens_pain\",\n",
    "    \"richiestoindenn\": \"claimed_compensation\",\n",
    "    \"lavpesante\": \"work_too_heavy\",\n",
    "    \"lavaggrava\": \"work_would_worsen_pain\",\n",
    "    \"lavdannschiena\": \"work_might_harm\",\n",
    "    \"nondovreilav\": \"should_not_work\",\n",
    "    \"nonriuscirolav\": \"cannot_work\",\n",
    "    \"nonlavtremesi\": \"cannot_work_three_months\",\n",
    "    \"nonlavmai\": \"ever_back_work\",\n",
    "    \"attualmlav\": \"currently_working\",\n",
    "    \"motivononlav\": \"reason_not_work\"\n",
    "}"
   ]
  },
  {
   "cell_type": "code",
   "execution_count": null,
   "id": "7054115a-eb7a-45f6-8982-9df2b0900a7f",
   "metadata": {},
   "outputs": [],
   "source": [
    "import re\n",
    "\n",
    "new_cols = []\n",
    "for c in spine_join.columns:\n",
    "    check = True\n",
    "    for k in translate.keys():\n",
    "        if k in c:\n",
    "            print(c)\n",
    "            new_cols.append(re.sub(k, translate[k], c))\n",
    "            print(new_cols[-1])\n",
    "            print()\n",
    "            check = False\n",
    "            break\n",
    "    if check:\n",
    "        new_cols.append(c)\n",
    "\n",
    "spine_join.columns = new_cols"
   ]
  },
  {
   "cell_type": "markdown",
   "id": "ba8834c0-015a-4bc3-bcc2-ae1a6158d36a",
   "metadata": {},
   "source": [
    "Transform binary columns in 0/1 format"
   ]
  },
  {
   "cell_type": "code",
   "execution_count": null,
   "id": "8e647f8b-8f6c-4e85-8f37-4f80ab9ddf9e",
   "metadata": {},
   "outputs": [],
   "source": [
    "spine_join = spine_join.replace(\"si\", 1)\n",
    "spine_join = spine_join.replace(\"no\", 0)\n",
    "\n",
    "spine_join[\"sex\"] = spine_join[\"sex\"].apply(lambda x: 1 if x == \"F\" else 0 if x == \"M\" else np.nan)\n",
    "\n",
    "new_cols = []\n",
    "for c in spine_join.columns:\n",
    "    if c == \"sex\":\n",
    "        new_cols.append(\"sex_0M_1F\")\n",
    "    else:\n",
    "        new_cols.append(c)\n",
    "        \n",
    "spine_join.columns = new_cols"
   ]
  },
  {
   "cell_type": "markdown",
   "id": "a7d39d7b-a5b7-4420-b546-42e233e4d3c4",
   "metadata": {},
   "source": [
    "Discard patients who were not of age at the time of enrollment"
   ]
  },
  {
   "cell_type": "code",
   "execution_count": null,
   "id": "25c21b22-2858-44cd-9d98-2de9438a242b",
   "metadata": {},
   "outputs": [],
   "source": [
    "hip_join = hip_join[hip_join[\"age_at_enrollment\"] >= 18]\n",
    "knee_join = knee_join[knee_join[\"age_at_enrollment\"] >= 18]\n",
    "spine_join = spine_join[spine_join[\"age_at_enrollment\"] >= 18]"
   ]
  },
  {
   "cell_type": "markdown",
   "id": "006ec1a6-4ede-449f-958c-04c6d51d2322",
   "metadata": {},
   "source": [
    "Validate BMI values and set to NaN values that are found to be invalid ($|\\frac{Weight}{(Height/100)^2} - BMI| > 1$), to denote missing information"
   ]
  },
  {
   "cell_type": "code",
   "execution_count": null,
   "id": "b59566d0-7a5d-4a2d-9c72-5a6249a0acab",
   "metadata": {},
   "outputs": [],
   "source": [
    "months = [\"PreOp\", \"3months\", \"6months\", \"12months\", \"24months\", \"60months\"]\n",
    "for m in months:\n",
    "    cond = np.abs(hip_join[\"BMI_weight_\"+m]/(hip_join[\"BMI_height_\"+m]/100)**2 - hip_join[\"BMI_Total_\"+m]) > 1\n",
    "    tmp = hip_join[cond]\n",
    "    if len(tmp) > 0:\n",
    "        hip.loc[cond, \"BMI_Total_\"+m] = 0\n",
    "\n",
    "months = [\"PreOp\", \"3months\", \"6months\", \"12months\", \"24months\", \"60months\"]\n",
    "for m in months:\n",
    "    cond = np.abs(knee_join[\"BMI_weight_\"+m]/(knee_join[\"BMI_height_\"+m]/100)**2 - knee_join[\"BMI_Total_\"+m]) > 1\n",
    "    tmp = knee_join[cond]\n",
    "    if len(tmp) > 0:\n",
    "        knee_join.loc[cond, \"BMI_Total_\"+m] = 0\n",
    "\n",
    "for m in months:\n",
    "    cond = np.abs(spine_join[\"BMI_weight_ans_0\"]/(spine_join[\"BMI_height_ans_0\"]/100)**2 - spine_join[\"BMI_Total_PreOp\"]) > 1\n",
    "    tmp = spine_join[cond]\n",
    "    if len(tmp) > 0:\n",
    "        spine_join.loc[cond, \"BMI_Total_PreOp\"] = 0"
   ]
  },
  {
   "cell_type": "markdown",
   "id": "e9b2bcaa-6c00-4e6e-b05a-9f78000a28cd",
   "metadata": {},
   "source": [
    "Extract spine level from surgical procedure"
   ]
  },
  {
   "cell_type": "code",
   "execution_count": null,
   "id": "a28aa8e2-04c1-40b9-817c-5035c9e9ac4d",
   "metadata": {},
   "outputs": [],
   "source": [
    "levels = spine_join[\"surgical_procedure_1\"].str.extractall(r'([lscdtLSCDT][0-9]+-?[lscdtLSCDT][0-9]+)|(ileo)|(ILEO)|(LOMB[A-Z]*)|(lomb[a-z]*)|(sacr[a-z]*)|(SACR[A-Z]*)|( I *[LDCS] )|( II *[LDCS] )|( III *[LDCS] )|( IV *[LDCS] )|( V *[LDCS] )')\n",
    "spine_join[\"levels_1\"] = levels.fillna(\"\").agg(\" \".join, axis=1).str.strip().groupby(level=0).agg(\" \".join)\n",
    "\n",
    "\n",
    "levels = spine_join[\"surgical_procedure_2\"].str.extractall(r'([lscdtLSCDT][0-9]+-?[lscdtLSCDT][0-9]+)|(ileo)|(ILEO)|(LOMB[A-Z]*)|(lomb[a-z]*)|(sacr[a-z]*)|(SACR[A-Z]*)|( I *[LDCS] )|( II *[LDCS] )|( III *[LDCS] )|( IV *[LDCS] )|( V *[LDCS] )')\n",
    "spine_join[\"levels_2\"] = levels.fillna(\"\").agg(\" \".join, axis=1).str.strip().groupby(level=0).agg(\" \".join)\n",
    "\n",
    "levels = spine_join[\"surgical_procedure_3\"].str.extractall(r'([lscdtLSCDT][0-9]+-?[lscdtLSCDT][0-9]+)|(ileo)|(ILEO)|(LOMB[A-Z]*)|(lomb[a-z]*)|(sacr[a-z]*)|(SACR[A-Z]*)|( I *[LDCS] )|( II *[LDCS] )|( III *[LDCS] )|( IV *[LDCS] )|( V *[LDCS] )')\n",
    "spine_join[\"levels_3\"] = levels.fillna(\"\").agg(\" \".join, axis=1).str.strip().groupby(level=0).agg(\" \".join)"
   ]
  },
  {
   "cell_type": "markdown",
   "id": "3aeb0b2f-6077-47a1-bdcd-a40d5f114657",
   "metadata": {},
   "source": [
    "Translate variables' texts from English to Italian"
   ]
  },
  {
   "cell_type": "code",
   "execution_count": null,
   "id": "12d2453e-a125-401f-970f-e235c358bcd6",
   "metadata": {},
   "outputs": [],
   "source": [
    "def change_anesthesia(x):\n",
    "    if x == \"Anestesia generale\":\n",
    "        return \"General\"\n",
    "    elif x == \"Locale eseguita dal 1Operatore\":\n",
    "        return \"Local\"\n",
    "    elif x == \"Subaracnoidea\":\n",
    "        return \"Subarachnoid\"\n",
    "    elif x == \"Altro\":\n",
    "        return \"Other\"\n",
    "    else:\n",
    "        return x\n",
    "\n",
    "spine_join[\"anesthesia_1\"] = spine_join[\"anesthesia_1\"].apply(change_anesthesia)\n",
    "spine_join[\"anesthesia_2\"] = spine_join[\"anesthesia_2\"].apply(change_anesthesia)\n",
    "spine_join[\"anesthesia_3\"] = spine_join[\"anesthesia_3\"].apply(change_anesthesia)"
   ]
  },
  {
   "cell_type": "code",
   "execution_count": null,
   "id": "f8a26184-62ff-4fef-a107-528976a1b30d",
   "metadata": {},
   "outputs": [],
   "source": [
    "def change_side(x):\n",
    "    if x == \"Sinistra\":\n",
    "        return \"Left\"\n",
    "    elif x == \"Destra\":\n",
    "        return \"Right\"\n",
    "    elif x == \"Bilaterale\":\n",
    "        return \"Bilateral\"\n",
    "    elif x == \"Non Applicabile\":\n",
    "        return \"Not Applicable\"\n",
    "    else:\n",
    "        return x\n",
    "\n",
    "spine_join[\"intervention_side_1\"] = spine_join[\"intervention_side_1\"].apply(change_side)\n",
    "spine_join[\"intervention_side_2\"] = spine_join[\"intervention_side_2\"].apply(change_side)\n",
    "spine_join[\"intervention_side_3\"] = spine_join[\"intervention_side_3\"].apply(change_side)"
   ]
  },
  {
   "cell_type": "code",
   "execution_count": null,
   "id": "288c9990-2f3c-4592-b947-ea2cc5b730f4",
   "metadata": {},
   "outputs": [],
   "source": [
    "def change_clean(x):\n",
    "    if x == \"Pulito\":\n",
    "        return \"Clean\"\n",
    "    elif x == \"Sporco\":\n",
    "        return \"Unclean\"\n",
    "    elif x == \"Contaminato\":\n",
    "        return \"Contaminated\"\n",
    "    else:\n",
    "        return x\n",
    "\n",
    "spine_join[\"clean_intervention_1\"] = spine_join[\"clean_intervention_1\"].apply(change_clean)\n",
    "spine_join[\"clean_intervention_2\"] = spine_join[\"clean_intervention_2\"].apply(change_clean)\n",
    "spine_join[\"clean_intervention_3\"] = spine_join[\"clean_intervention_3\"].apply(change_clean)"
   ]
  },
  {
   "cell_type": "code",
   "execution_count": null,
   "id": "833ef382-c6d3-4071-942d-954be6393dbf",
   "metadata": {},
   "outputs": [],
   "source": [
    "def change_category(x):\n",
    "    if x == \"Artrodesi lombare\":\n",
    "        return \"Lumbar arthrodesis\"\n",
    "    elif x == \"Ernia lombare\":\n",
    "        return \"Lumbar herniation\"\n",
    "    elif x == \"Deformita degenerativa\":\n",
    "        return \"Degenerative deformity\"\n",
    "    elif x == \"Decompressione lombare\":\n",
    "        return \"Lumbar decompression\"\n",
    "    elif x == \"Artrodesi cervicale\":\n",
    "        return \"Cervical arthrodesis\"\n",
    "    elif x == \"Deformita idiopatica\":\n",
    "        return \"Idiopatic deformity\"\n",
    "    elif x == \"Cifoplastiche\":\n",
    "        return \"Kyphoplasty\"\n",
    "    elif x == \"Tumore vertebrale\":\n",
    "        return \"Vertebral cancer\"\n",
    "    elif x == \"Ernia cervicale\":\n",
    "        return \"Cervical herniation\"\n",
    "    elif x == \"Scoliosi neuromuscolare ridotto\":\n",
    "        return \"Neuromuscular scoliosis\"\n",
    "    else:\n",
    "        return x\n",
    "\n",
    "spine_join[\"category\"] = spine_join[\"category\"].apply(change_category)"
   ]
  },
  {
   "cell_type": "code",
   "execution_count": null,
   "id": "d4e87da1-d3ba-43eb-aa06-5f98f3eadba9",
   "metadata": {},
   "outputs": [],
   "source": [
    "def change_state(x):\n",
    "    if x == \"attivo\":\n",
    "        return \"active\"\n",
    "    elif x == \"chiuso per re-intervento fallimento\":\n",
    "        return \"close (reintervention after failure)\"\n",
    "    elif x == \"chiuso per re-intervento con diverso protocollo\":\n",
    "        return \"close (reintervention with different protocol)\"\n",
    "    elif x == \"chiuso per re-intervento revisione o programmato\":\n",
    "        return \"close (planned reintervention or revision)\"\n",
    "    elif x == \"chiuso per morte\":\n",
    "        return \"close (death)\"\n",
    "    elif x == \"paziente rioperato in altra struttura\":\n",
    "        return \"patient moved to other structure\"\n",
    "    elif x == \"chiuso per mancata comunicazione\":\n",
    "        return \"close (lack of communications)\"\n",
    "    elif x == \"chiusura per completa mancanza di compilazione dei formulari\":\n",
    "        return \"close (questionnaires completely unfilled)\"\n",
    "    elif x == \"chiusura per paziente con problemi di compilazione\":\n",
    "        return \"close (patient with compilation problems)\"\n",
    "    elif x == \"chiuso per re-intervento per infezione o sospetta infezione\":\n",
    "        return \"close (infection or suspected infection)\"\n",
    "    elif x == \"chiuso per re-intervento\":\n",
    "        return \"close (reintervention)\"\n",
    "    elif x == \"chiuso\":\n",
    "        return \"close\"\n",
    "    elif x == \"paziente non operato\":\n",
    "        return \"not operated\"\n",
    "    else:\n",
    "        return x\n",
    "\n",
    "spine_join[\"state\"] = spine_join[\"state\"].apply(change_state)\n",
    "hip_join[\"state\"] = hip_join[\"state\"].apply(change_state)\n",
    "knee_join[\"state\"] = knee_join[\"state\"].apply(change_state)"
   ]
  },
  {
   "cell_type": "code",
   "execution_count": null,
   "id": "e6899f5f-33da-4ef9-baef-6c3be7a42589",
   "metadata": {},
   "outputs": [],
   "source": [
    "def change_patient(x):\n",
    "    if x == \"paziente_attivo\":\n",
    "        return \"active\"\n",
    "    elif x == \"paziente_inattivo\":\n",
    "        return \"inactive\"\n",
    "    else:\n",
    "        return x\n",
    "\n",
    "spine_join[\"patient_state\"] = spine_join[\"patient_state\"].apply(change_patient)\n",
    "hip_join[\"patient_state\"] = hip_join[\"patient_state\"].apply(change_patient)\n",
    "knee_join[\"patient_state\"] = knee_join[\"patient_state\"].apply(change_patient)"
   ]
  },
  {
   "cell_type": "code",
   "execution_count": null,
   "id": "11daa9a7-04f3-4c2f-94e7-c934cf638e7f",
   "metadata": {},
   "outputs": [],
   "source": [
    "def change_step(x):\n",
    "    if x == \"Intraoperatorio-Dimissione\":\n",
    "        return \"Intraop-Discharge\"\n",
    "    elif x == \"3 mesi\":\n",
    "        return \"3 months\"\n",
    "    elif x == \"6 mesi\":\n",
    "        return \"6 months\"\n",
    "    elif x == \"12 mesi\":\n",
    "        return \"12 months\"\n",
    "    elif x == \"24 mesi\":\n",
    "        return \"24 months\"\n",
    "    elif x == \"5 anni\":\n",
    "        return \"5 years\"\n",
    "    elif x == \"10 anni\":\n",
    "        return \"10 years\"\n",
    "    else:\n",
    "        return x\n",
    "\n",
    "spine_join[\"current_step\"] = spine_join[\"current_step\"].apply(change_step)\n",
    "hip_join[\"current_step\"] = hip_join[\"current_step\"].apply(change_step)\n",
    "knee_join[\"current_step\"] = knee_join[\"current_step\"].apply(change_step)"
   ]
  },
  {
   "cell_type": "code",
   "execution_count": null,
   "id": "14663082-e6bf-4dfb-8385-a07acf887c4a",
   "metadata": {},
   "outputs": [],
   "source": [
    "def change_category(x):\n",
    "    if x == \"Anca\":\n",
    "        return \"First intervention\"\n",
    "    elif x == \"Anca revisione\":\n",
    "        return \"Revision\"\n",
    "    elif x == \"Anca bilaterale\":\n",
    "        return \"Bilateral intervention\"\n",
    "    else:\n",
    "        return x\n",
    "\n",
    "hip_join[\"category\"] = hip_join[\"category\"].apply(change_category)"
   ]
  },
  {
   "cell_type": "code",
   "execution_count": null,
   "id": "2b70aa2f-4ba0-4fe9-a855-0d6de8c651a0",
   "metadata": {},
   "outputs": [],
   "source": [
    "def change_side(x):\n",
    "    if x == \"SINISTRA\":\n",
    "        return \"Left\"\n",
    "    elif x == \"DESTRA\":\n",
    "        return \"Right\"\n",
    "    elif x == \"BILATERALE\":\n",
    "        return \"Bilateral\"\n",
    "    else:\n",
    "        return x\n",
    "\n",
    "hip_join[\"side\"] = hip_join[\"event\"].str.extract(r'(SINISTRA)|(DESTRA)|(BILATERALE)').fillna(\"\").agg(\" \".join, axis=1).str.strip().apply(change_side)\n",
    "hip_join[\"side\"]"
   ]
  },
  {
   "cell_type": "code",
   "execution_count": null,
   "id": "e68d8134-dfcb-4f28-b4f8-c66c602a047f",
   "metadata": {},
   "outputs": [],
   "source": [
    "def change_category(x):\n",
    "    if x == \"Ginocchio\":\n",
    "        return \"First intervention\"\n",
    "    elif x == \"Ginocchio revisione\":\n",
    "        return \"Revision\"\n",
    "    elif x == \"Ginocchio bilaterale\":\n",
    "        return \"Bilateral intervention\"\n",
    "    else:\n",
    "        return x\n",
    "\n",
    "knee_join[\"category\"] = knee_join[\"category\"].apply(change_category)\n",
    "knee_join[\"category\"].value_counts()"
   ]
  },
  {
   "cell_type": "code",
   "execution_count": null,
   "id": "ad1f6e8d-47b3-4faa-8f01-a027f7390601",
   "metadata": {},
   "outputs": [],
   "source": [
    "def change_side(x):\n",
    "    if x == \"SINISTRO\":\n",
    "        return \"Left\"\n",
    "    elif x == \"DESTRO\":\n",
    "        return \"Right\"\n",
    "    elif x == \"BILATERALE\":\n",
    "        return \"Bilateral\"\n",
    "    else:\n",
    "        return x\n",
    "\n",
    "knee_join[\"side\"] = knee_join[\"event\"].str.extract(r'(SINISTRO)|(DESTRO)|(BILATERALE)').fillna(\"\").agg(\" \".join, axis=1).str.strip().apply(change_side)\n",
    "knee_join[\"side\"].value_counts()"
   ]
  },
  {
   "cell_type": "markdown",
   "id": "4f35c260-0cf5-417c-b653-3a6ac2ae9da9",
   "metadata": {},
   "source": [
    "Drop potentially identifying columns and save to publicly released datasets"
   ]
  },
  {
   "cell_type": "code",
   "execution_count": null,
   "id": "f915dc53-d10f-4591-aead-86ad63db7394",
   "metadata": {},
   "outputs": [],
   "source": [
    "hip = hip.drop(columns=[\"event\", \"surgical_procedure\", \"equipe\"])\n",
    "hip.to_csv(\"OGSA_PROMs_2023_hip.csv\", index=False)\n",
    "\n",
    "knee = knee.drop(columns=[\"event\", \"surgical_procedure\", \"equipe\"])\n",
    "knee.to_csv(\"OGSA_PROMs_2023_knee.csv\", index=False)\n",
    "\n",
    "spine_join = spine_join.drop(columns=[\"equipe_1\", \"unit_1\", \"equipe_2\", \"unit_2\", \"equipe_3\", \"unit_3\",\n",
    "                                      \"event\", \"surgical_procedure_1\", \"surgical_procedure_2\", \"surgical_procedure_3\"])\n",
    "spine_join.to_csv(\"OGSA_PROMs_2023_spine.csv\", index=False)"
   ]
  },
  {
   "cell_type": "markdown",
   "id": "bbde0ace-b9b4-4ab9-992d-efa53f67c013",
   "metadata": {},
   "source": [
    "# Validation"
   ]
  },
  {
   "cell_type": "code",
   "execution_count": 14,
   "id": "077197cb-1f2c-4e41-95b6-8e5072de8a1f",
   "metadata": {},
   "outputs": [],
   "source": [
    "dict_types = {\n",
    " 'ICD': object,\n",
    " 'ICD_1': object,\n",
    " 'ICD_code_PREOP_1': object,\n",
    " 'ICD_name_PREOP_1': object,\n",
    " 'ICD_code_INTRAOP_1': object,\n",
    " 'ICD_name_INTRAOP_1': object,\n",
    " 'ICD_code_POSTOP_1': object,\n",
    " 'ICD_name_POSTOP_1': object,\n",
    " 'ICD_2': object,\n",
    " 'ICD_code_PREOP_2': object,\n",
    " 'ICD_name_PREOP_2': object,\n",
    " 'ICD_code_INTRAOP_2': object,\n",
    " 'ICD_name_INTRAOP_2': object,\n",
    " 'ICD_code_POSTOP_2': object,\n",
    " 'ICD_name_POSTOP_2': object,\n",
    " 'ICD_3': object,\n",
    " 'ICD_code_PREOP_3': object,\n",
    " 'ICD_name_PREOP_3': object,\n",
    " 'ICD_code_INTRAOP_3': object,\n",
    " 'ICD_name_INTRAOP_3': object,\n",
    " 'ICD_code_POSTOP_3': object,\n",
    " 'ICD_name_POSTOP_3': object\n",
    "}"
   ]
  },
  {
   "cell_type": "code",
   "execution_count": 15,
   "id": "54fc6ffd-1543-4dd6-824f-b8c32836c9b5",
   "metadata": {},
   "outputs": [
    {
     "name": "stderr",
     "output_type": "stream",
     "text": [
      "/tmp/ipykernel_361/3732519904.py:3: DtypeWarning: Columns (42,43,44,45,46,48,58,89,219,327,435,500,529,541,543,561,608,649,669,716,747) have mixed types. Specify dtype option on import or set low_memory=False.\n",
      "  spine = pd.read_csv(\"OGSA_PROMs_2023_spine.csv\", dtype=dict_types)\n"
     ]
    }
   ],
   "source": [
    "hip = pd.read_csv(\"OGSA_PROMs_2023_hip.csv\", dtype=dict_types)\n",
    "knee = pd.read_csv(\"OGSA_PROMs_2023_knee.csv\", dtype=dict_types)\n",
    "spine = pd.read_csv(\"OGSA_PROMs_2023_spine.csv\", dtype=dict_types)"
   ]
  },
  {
   "cell_type": "markdown",
   "id": "ac7698e9-1b79-43de-aa51-b2a872cd04d3",
   "metadata": {},
   "source": [
    "Check BMI validity"
   ]
  },
  {
   "cell_type": "code",
   "execution_count": 17,
   "id": "2e86ccdf-6f44-49a3-84ad-2112c295a4df",
   "metadata": {},
   "outputs": [
    {
     "name": "stdout",
     "output_type": "stream",
     "text": [
      "True\n",
      "True\n",
      "True\n"
     ]
    }
   ],
   "source": [
    "months = [\"PreOp\", \"3months\", \"6months\", \"12months\", \"24months\", \"60months\"]\n",
    "\n",
    "check = True\n",
    "for m in months:\n",
    "    cond = (np.abs(hip[\"BMI_weight_\"+m]/(hip[\"BMI_height_\"+m]/100)**2 - hip[\"BMI_Total_\"+m]) > 1) & (hip[\"BMI_Total_\"+m] != 0)\n",
    "    tmp = hip[cond]\n",
    "    if len(tmp) > 0:\n",
    "        check = False\n",
    "print(check)\n",
    "\n",
    "check = True\n",
    "months = [\"PreOp\", \"3months\", \"6months\", \"12months\", \"24months\", \"60months\"]\n",
    "for m in months:\n",
    "    cond = (np.abs(knee[\"BMI_weight_\"+m]/(knee[\"BMI_height_\"+m]/100)**2 - knee[\"BMI_Total_\"+m]) > 1)  & (knee[\"BMI_Total_\"+m] != 0)\n",
    "    tmp = knee[cond]\n",
    "    if len(tmp) > 0:\n",
    "        check = False\n",
    "print(check)\n",
    "\n",
    "check = True\n",
    "for m in months:\n",
    "    cond = (np.abs(spine[\"BMI_weight_ans_0\"]/(spine[\"BMI_height_ans_0\"]/100)**2 - spine[\"BMI_Total_PreOp\"]) > 1) & (spine[\"BMI_Total_PreOp\"] != 0)\n",
    "    tmp = spine[cond]\n",
    "    if len(tmp) > 0:\n",
    "        check = False\n",
    "print(check)"
   ]
  },
  {
   "cell_type": "code",
   "execution_count": null,
   "id": "549ae5e9-a985-4e3c-9191-398bc751f78a",
   "metadata": {},
   "outputs": [],
   "source": []
  }
 ],
 "metadata": {
  "kernelspec": {
   "display_name": "Python 3 (ipykernel)",
   "language": "python",
   "name": "python3"
  },
  "language_info": {
   "codemirror_mode": {
    "name": "ipython",
    "version": 3
   },
   "file_extension": ".py",
   "mimetype": "text/x-python",
   "name": "python",
   "nbconvert_exporter": "python",
   "pygments_lexer": "ipython3",
   "version": "3.10.13"
  }
 },
 "nbformat": 4,
 "nbformat_minor": 5
}
